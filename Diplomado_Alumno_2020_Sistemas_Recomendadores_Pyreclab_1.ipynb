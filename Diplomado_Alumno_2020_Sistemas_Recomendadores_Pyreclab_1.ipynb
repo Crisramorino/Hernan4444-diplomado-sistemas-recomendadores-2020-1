{
  "nbformat": 4,
  "nbformat_minor": 0,
  "metadata": {
    "colab": {
      "name": "Diplomado Alumno 2020 Sistemas Recomendadores Pyreclab 1.ipynb",
      "provenance": [],
      "collapsed_sections": [],
      "include_colab_link": true
    },
    "kernelspec": {
      "name": "python3",
      "display_name": "Python 3"
    },
    "accelerator": "GPU"
  },
  "cells": [
    {
      "cell_type": "markdown",
      "metadata": {
        "id": "view-in-github",
        "colab_type": "text"
      },
      "source": [
        "<a href=\"https://colab.research.google.com/github/Hernan4444/Hernan4444-diplomado-sistemas-recomendadores-2020-1/blob/master/Diplomado_Alumno_2020_Sistemas_Recomendadores_Pyreclab_1.ipynb\" target=\"_parent\"><img src=\"https://colab.research.google.com/assets/colab-badge.svg\" alt=\"Open In Colab\"/></a>"
      ]
    },
    {
      "cell_type": "markdown",
      "metadata": {
        "id": "NC-ceGb8LRLT",
        "colab_type": "text"
      },
      "source": [
        "# Practica Pyreclab 1"
      ]
    },
    {
      "cell_type": "markdown",
      "metadata": {
        "id": "mACJbcW8T35p",
        "colab_type": "text"
      },
      "source": [
        "En este práctico vamos a utilizar la biblioteca de Python [pyreclab](https://github.com/gasevi/pyreclab) desarrollado por los Laboratorios IALab y SocVis de la Pontificia Universidad Católica de Chile, para aprender sobre algoritmos básicos y tradicionales de sistemas de recomendacion:\n",
        "\n",
        "\n",
        "*   Most Popular\n",
        "*   Item Average Rating\n",
        "*   User KNN (Filtrado colaborativo basado en usuarios)\n",
        "*   Item KNN (Filtrado colaborativo basado en items)\n",
        "*   FunkSVD (Factorización matricial SVD regularizada)\n",
        "\n",
        "\n",
        "**Autores**: Denis Parra, Gabriel Sepúlveda\n",
        "\n",
        "**Ayudantes** Manuel Cartagena y Hernán Valdivieso\n"
      ]
    },
    {
      "cell_type": "markdown",
      "metadata": {
        "id": "YbhbI8isNdqE",
        "colab_type": "text"
      },
      "source": [
        "**Trabajo de a pares**\n",
        "\n",
        "**Nombre 1**: tu nombre aqui\n",
        "\n",
        "**Nombre 2**: nombre de tu compañero aquí."
      ]
    },
    {
      "cell_type": "markdown",
      "metadata": {
        "id": "2j02H66f87eV",
        "colab_type": "text"
      },
      "source": [
        "# Índice"
      ]
    },
    {
      "cell_type": "markdown",
      "metadata": {
        "id": "Ig9HHqbC84j5",
        "colab_type": "toc"
      },
      "source": [
        ">[Practica Pyreclab 1](#scrollTo=NC-ceGb8LRLT)\n",
        "\n",
        ">[Índice](#scrollTo=2j02H66f87eV)\n",
        "\n",
        ">[Descargando la información](#scrollTo=9qKTQ2V5VKSX)\n",
        "\n",
        ">[Revisar archivos descargados](#scrollTo=liJ3L2kl4g1o)\n",
        "\n",
        ">>[Como ver la información de una o más películas](#scrollTo=jqXxj773Foo8)\n",
        "\n",
        ">>[Preparar entorno](#scrollTo=P3K5VPZoGSYX)\n",
        "\n",
        ">[Probar Pyreclab](#scrollTo=tGbAZ8yAMAk5)\n",
        "\n",
        ">>[Most Popular](#scrollTo=tGbAZ8yAMAk5)\n",
        "\n",
        ">>[Item Avg](#scrollTo=d72jgXBsML5a)\n",
        "\n",
        ">>>[Actividad 1:](#scrollTo=tMiP_Z2VYZB9)\n",
        "\n",
        ">>>[Actividad 2:](#scrollTo=FAmYXWtWXg3D)\n",
        "\n",
        ">>>[Actividad 3](#scrollTo=_ZdUT93BMYgq)\n",
        "\n",
        ">>>[Actividad 4](#scrollTo=4WV4L4lmOW5-)\n",
        "\n",
        ">>[UserKNN](#scrollTo=2e0ZeZXzMhU3)\n",
        "\n",
        ">>>[Actividad 5](#scrollTo=I-iqQvAdTTCP)\n",
        "\n",
        ">>>[Actividad 6](#scrollTo=Wp-2JLSBJhPv)\n",
        "\n",
        ">>[Evaluar en base a error de prediccion (MAE y RMSE) UserKnn](#scrollTo=6_Kp3zRwJ9gv)\n",
        "\n",
        ">>>[Actividad 7](#scrollTo=jrjMzM5zioaP)\n",
        "\n",
        ">>[Actividad 8 ItemKNN](#scrollTo=FqgkF0dNMo9c)\n",
        "\n",
        ">>[Actividad 9 SlopeOne](#scrollTo=NAE5IZzXMqiJ)\n",
        "\n"
      ]
    },
    {
      "cell_type": "markdown",
      "metadata": {
        "id": "9qKTQ2V5VKSX",
        "colab_type": "text"
      },
      "source": [
        "# Descargando la información\n",
        "\n",
        "Vaya ejecutando cada celda presionando el botón de **Play** o presionando Ctrl+Enter (Linux y Windows) o Command+Enter (Macosx) para descargar las bases de datos"
      ]
    },
    {
      "cell_type": "code",
      "metadata": {
        "id": "k9ns677UutZM",
        "colab_type": "code",
        "colab": {}
      },
      "source": [
        "!curl -L -o \"u1.base\" \"https://drive.google.com/uc?export=download&id=1bGweNw7NbOHoJz11v6ld7ymLR8MLvBsA\""
      ],
      "execution_count": 0,
      "outputs": []
    },
    {
      "cell_type": "code",
      "metadata": {
        "id": "zsxxCm_5uuIC",
        "colab_type": "code",
        "colab": {}
      },
      "source": [
        "!curl -L -o \"u1.test\" \"https://drive.google.com/uc?export=download&id=1f_HwJWC_1HFzgAjKAWKwkuxgjkhkXrVg\""
      ],
      "execution_count": 0,
      "outputs": []
    },
    {
      "cell_type": "code",
      "metadata": {
        "id": "Ji-GEIx4uuQ8",
        "colab_type": "code",
        "colab": {}
      },
      "source": [
        "!curl -L -o \"u.item\" \"https://drive.google.com/uc?export=download&id=10YLhxkO2-M_flQtyo9OYV4nT9IvSESuz\""
      ],
      "execution_count": 0,
      "outputs": []
    },
    {
      "cell_type": "markdown",
      "metadata": {
        "id": "liJ3L2kl4g1o",
        "colab_type": "text"
      },
      "source": [
        "Los archivos **u1.base** y **u1.test** tienen tuplas {usuario, item, rating, timestamp}, que es la información de preferencias de usuarios sobre películas en una muestra del dataset [movielens](https://grouplens.org/datasets/movielens/).\n",
        "\n",
        "# Revisar archivos descargados\n",
        "\n",
        "Revisemos cómo es uno de estos archivos:"
      ]
    },
    {
      "cell_type": "code",
      "metadata": {
        "id": "10N9GHcw5AeV",
        "colab_type": "code",
        "colab": {}
      },
      "source": [
        "import pandas as pd\n",
        "\n",
        "train_file = pd.read_csv('u1.base', sep='\\t', names = ['userid', 'itemid', 'rating', 'timestamp'], header=None)\n",
        "\n",
        "train_file.head()"
      ],
      "execution_count": 0,
      "outputs": []
    },
    {
      "cell_type": "markdown",
      "metadata": {
        "id": "BKOrcfaiEdqM",
        "colab_type": "text"
      },
      "source": [
        "Por otra parte, para obtener información adicional de cada película tal como *título*, *fecha de lanzamient*o, *género*, etc., cargaremos el archivo de items descargado ( *u.item* ) para poder mapear cada identificador de ítem al conjunto de datos que lo describe.\n",
        "Revisemos el contenido de este archivo"
      ]
    },
    {
      "cell_type": "code",
      "metadata": {
        "id": "bVtvxJnr_yeK",
        "colab_type": "code",
        "colab": {}
      },
      "source": [
        "info_cols = [ 'movieid', 'title', 'release_date', 'video_release_date', 'IMDb_URL', \\\n",
        "              'unknown', 'Action', 'Adventure', 'Animation', 'Children', 'Comedy', \\\n",
        "              'Crime', 'Documentary', 'Drama', 'Fantasy', 'Film-Noir', 'Horror', \\\n",
        "              'Musical', 'Mystery', 'Romance', 'Sci-Fi', 'Thriller', 'War', 'Western' ]\n",
        "\n",
        "pd.options.display.max_columns = None\n",
        "\n",
        "info_file = pd.read_csv('u.item', sep='|', index_col = 0, names = info_cols, header=None, encoding='latin-1')\n",
        "\n",
        "info_file.head()"
      ],
      "execution_count": 0,
      "outputs": []
    },
    {
      "cell_type": "markdown",
      "metadata": {
        "id": "jqXxj773Foo8",
        "colab_type": "text"
      },
      "source": [
        "El comando `pd.options.display.max_columns = None` permite que la tabla se pueda mostrar completamente de forma horizontal, es decir, que muestre todas sus columnas.\n",
        "\n",
        "## Como ver la información de una o más películas\n",
        "Para esto se hace 2 pasos, \n",
        "1. Determinar los índices de las películas\n",
        "2. Pedir a `info_file` las columnas\n",
        "3. (adicional) Indicar alguna columna en específico"
      ]
    },
    {
      "cell_type": "code",
      "metadata": {
        "id": "3JsjHzBFGqQI",
        "colab_type": "code",
        "colab": {}
      },
      "source": [
        "# ejemplo de cómo visualizar titulos de peliculas en base a sus IDs\n",
        "pelis = [5,4,1]\n",
        "info_file.loc[pelis]"
      ],
      "execution_count": 0,
      "outputs": []
    },
    {
      "cell_type": "markdown",
      "metadata": {
        "id": "2YDbWo18GwAT",
        "colab_type": "text"
      },
      "source": [
        "Para éste código:\n",
        "1. `pelis = [5,4,1]` indica que queremos las películas cuyo índice son 5, 4 y 1\n",
        "2. `info_file.loc[pelis]` el método `loc` permite acceder a esas columna\n",
        "A continuación se verá como obtener una columna en específico. Para esto solo es necesario agregar corchetes y el nombre de la columna"
      ]
    },
    {
      "cell_type": "code",
      "metadata": {
        "id": "gZZ3g-n7G9EY",
        "colab_type": "code",
        "colab": {}
      },
      "source": [
        "info_file.loc[pelis]['title']"
      ],
      "execution_count": 0,
      "outputs": []
    },
    {
      "cell_type": "markdown",
      "metadata": {
        "id": "P3K5VPZoGSYX",
        "colab_type": "text"
      },
      "source": [
        "## Preparar entorno\n",
        "Primero es necesario instalar una librería para realizar recomendaciones. Esta se llama ***pyreclab***"
      ]
    },
    {
      "cell_type": "code",
      "metadata": {
        "id": "nbtrMHvG6uIt",
        "colab_type": "code",
        "colab": {}
      },
      "source": [
        "!pip install pyreclab"
      ],
      "execution_count": 0,
      "outputs": []
    },
    {
      "cell_type": "markdown",
      "metadata": {
        "id": "8xjAMaNz-4dO",
        "colab_type": "text"
      },
      "source": [
        "Luego necesitamos importar pyreclab y numpy, 2 librerías a utilizar en este práctico"
      ]
    },
    {
      "cell_type": "code",
      "metadata": {
        "id": "nv7g1e_i6wBY",
        "colab_type": "code",
        "colab": {}
      },
      "source": [
        "import pyreclab\n",
        "import numpy as np"
      ],
      "execution_count": 0,
      "outputs": []
    },
    {
      "cell_type": "markdown",
      "metadata": {
        "id": "tGbAZ8yAMAk5",
        "colab_type": "text"
      },
      "source": [
        "# Probar Pyreclab\n",
        "\n",
        "## Most Popular\n",
        "\n",
        "Probar método de recomendación basado en ***Most Popular***"
      ]
    },
    {
      "cell_type": "code",
      "metadata": {
        "id": "ayKBs3MSS1JZ",
        "colab_type": "code",
        "colab": {}
      },
      "source": [
        "# declarar el objeto recomendador de la clase MostPopular\n",
        "mymp = pyreclab.MostPopular(dataset = 'u1.base',dlmchar = b'\\t',header = False,usercol = 0,itemcol = 1, ratingcol = 2 )"
      ],
      "execution_count": 0,
      "outputs": []
    },
    {
      "cell_type": "code",
      "metadata": {
        "id": "yt-4Z9XlTH8s",
        "colab_type": "code",
        "colab": {}
      },
      "source": [
        "# entrenamos el modelo con los datos existentes\n",
        "\n",
        "# el método calcula el numero de veces que fue consumido cada item, \n",
        "# así, puede luego recomendar los mas populares\n",
        "mymp.train()"
      ],
      "execution_count": 0,
      "outputs": []
    },
    {
      "cell_type": "code",
      "metadata": {
        "id": "hm1kj3CiTVq5",
        "colab_type": "code",
        "colab": {}
      },
      "source": [
        "# con este método no podemos predecir ratings, pero sí podemos recomendar\n",
        "# la recomendación es no personalizada (igual recomendación a todos los usuarios)\n",
        "reclist = mymp.recommend(\"457\")\n",
        "print(reclist)"
      ],
      "execution_count": 0,
      "outputs": []
    },
    {
      "cell_type": "markdown",
      "metadata": {
        "id": "ufFZvV6BaE32",
        "colab_type": "text"
      },
      "source": [
        "`reclist` es una lista de 10 índices que representan las películas a recomendar. A continuación se muestra como transformar esos índicas a números (`int`) y luego usar el comando `loc` para obtener la información de las películas, en partícular los títulos."
      ]
    },
    {
      "cell_type": "code",
      "metadata": {
        "id": "g06HSOn6KVoj",
        "colab_type": "code",
        "colab": {}
      },
      "source": [
        "# con esto podemos ver las recomendaciones con titulo de película\n",
        "pelis = np.array(reclist).astype(int)\n",
        "info_file.loc[pelis]['title']"
      ],
      "execution_count": 0,
      "outputs": []
    },
    {
      "cell_type": "markdown",
      "metadata": {
        "id": "d72jgXBsML5a",
        "colab_type": "text"
      },
      "source": [
        "## Item Avg\n",
        "\n",
        "Probar método de recomendación basado en ***ItemAvg***"
      ]
    },
    {
      "cell_type": "code",
      "metadata": {
        "id": "DbSxcwx-WVVQ",
        "colab_type": "code",
        "colab": {}
      },
      "source": [
        "# declarar el objeto recomendador ItemAvg\n",
        "myitemavg = pyreclab.ItemAvg(dataset = 'u1.base',dlmchar = b'\\t',header = False,usercol = 0,itemcol = 1, ratingcol = 2 )\n"
      ],
      "execution_count": 0,
      "outputs": []
    },
    {
      "cell_type": "code",
      "metadata": {
        "id": "JxaWtdjgWVhu",
        "colab_type": "code",
        "colab": {}
      },
      "source": [
        "# entrenamos el modelo con los datos existentes\n",
        "myitemavg.train()"
      ],
      "execution_count": 0,
      "outputs": []
    },
    {
      "cell_type": "markdown",
      "metadata": {
        "id": "tMiP_Z2VYZB9",
        "colab_type": "text"
      },
      "source": [
        "### Actividad 1:\n",
        "Responder la pregunta: ¿Qué cree usted que hace la función `train()` del método de recomendación `ItemAvg()`` ?"
      ]
    },
    {
      "cell_type": "markdown",
      "metadata": {
        "id": "HoRM5ILcYS8l",
        "colab_type": "text"
      },
      "source": [
        "Respuesta:"
      ]
    },
    {
      "cell_type": "code",
      "metadata": {
        "id": "QIN7IAHyWVtL",
        "colab_type": "code",
        "colab": {}
      },
      "source": [
        "# Predecir rating que el usuario ID 457 le dará al ítem ID 37\n",
        "myitemavg.predict(\"457\",\"37\")"
      ],
      "execution_count": 0,
      "outputs": []
    },
    {
      "cell_type": "markdown",
      "metadata": {
        "id": "FAmYXWtWXg3D",
        "colab_type": "text"
      },
      "source": [
        "### Actividad 2:\n",
        "\n",
        "Ejecute el mismo comando anterior para predecir esta vez el rating que el usuario 498 dará al item 37 ¿Qué rating da? ¿Cómo se explica este resultado? (Asegurese de generar tanto el código como responder ambas preguntas)"
      ]
    },
    {
      "cell_type": "code",
      "metadata": {
        "id": "LZuWe5vlQNdR",
        "colab_type": "code",
        "colab": {}
      },
      "source": [
        ""
      ],
      "execution_count": 0,
      "outputs": []
    },
    {
      "cell_type": "markdown",
      "metadata": {
        "id": "wJvLQ2HoYrCX",
        "colab_type": "text"
      },
      "source": [
        "Respuesta:"
      ]
    },
    {
      "cell_type": "code",
      "metadata": {
        "id": "Fr40bOYsXtnP",
        "colab_type": "code",
        "colab": {}
      },
      "source": [
        "# Generar lista de 5 recomendaciones para el usuario con ID 457\n",
        "\n",
        "reclist_iavg = myitemavg.recommend(\"457\",5)\n",
        "print(reclist_iavg)"
      ],
      "execution_count": 0,
      "outputs": []
    },
    {
      "cell_type": "markdown",
      "metadata": {
        "id": "_ZdUT93BMYgq",
        "colab_type": "text"
      },
      "source": [
        "### Actividad 3\n",
        "\n",
        "Genere una lista de 11 recomendaciones para el usario ID 478 ¿Cómo se explican las recomendaciones del método para este usuario comparadas con las del usuario 457?"
      ]
    },
    {
      "cell_type": "code",
      "metadata": {
        "id": "6_9NNOGoaAzi",
        "colab_type": "code",
        "colab": {}
      },
      "source": [
        "# genera aqui las recomendacion para el usuario 478\n",
        "\n"
      ],
      "execution_count": 0,
      "outputs": []
    },
    {
      "cell_type": "markdown",
      "metadata": {
        "id": "4ndrsHNOYujg",
        "colab_type": "text"
      },
      "source": [
        "Respuesta: "
      ]
    },
    {
      "cell_type": "markdown",
      "metadata": {
        "id": "4WV4L4lmOW5-",
        "colab_type": "text"
      },
      "source": [
        "### Actividad 4\n",
        "¿Cuáles son los títulos de las películas recomendadas por el método **ItemAvg** para el usuario 457 ? ¿Qué le parecen estas recomendaciones comparadas con el método **MostPopular**?"
      ]
    },
    {
      "cell_type": "code",
      "metadata": {
        "id": "S9TLKRK-O8FH",
        "colab_type": "code",
        "colab": {}
      },
      "source": [
        "# (pista) recuerde los comandos usados en el método anterior\n"
      ],
      "execution_count": 0,
      "outputs": []
    },
    {
      "cell_type": "markdown",
      "metadata": {
        "id": "2e0ZeZXzMhU3",
        "colab_type": "text"
      },
      "source": [
        "## UserKNN\n",
        "\n",
        "Probar método de recomendación basado en ***UserKNN***"
      ]
    },
    {
      "cell_type": "code",
      "metadata": {
        "id": "ONuL2UkwaqPH",
        "colab_type": "code",
        "colab": {}
      },
      "source": [
        "# declarar el objeto recomendador UserKnn\n",
        "myUserKnn = pyreclab.UserKnn(dataset = 'u1.base',dlmchar = b'\\t',header = False,usercol = 0,itemcol = 1, ratingcol = 2 )\n"
      ],
      "execution_count": 0,
      "outputs": []
    },
    {
      "cell_type": "code",
      "metadata": {
        "id": "uhjC9eRYaqPK",
        "colab_type": "code",
        "colab": {}
      },
      "source": [
        "# entrenamos el modelo con los datos existentes\n",
        "# recuerde que en este metodo puede probar el parámetro k de cantidad de vecinos\n",
        "# así como la métrica de similaridad (pearson, cosine)\n",
        "myUserKnn.train(7,'pearson')"
      ],
      "execution_count": 0,
      "outputs": []
    },
    {
      "cell_type": "markdown",
      "metadata": {
        "id": "I-iqQvAdTTCP",
        "colab_type": "text"
      },
      "source": [
        "### Actividad 5\n",
        "\n",
        "Según el modelo de recomendación UserKnn, qué rating le dará el usuario 457 al item 37 ? Para esto ocupe el método `predict` tal como lo hizo en ***ItemAVG***.\n",
        "\n"
      ]
    },
    {
      "cell_type": "code",
      "metadata": {
        "id": "rGrmht_6JfFG",
        "colab_type": "code",
        "colab": {}
      },
      "source": [
        ""
      ],
      "execution_count": 0,
      "outputs": []
    },
    {
      "cell_type": "markdown",
      "metadata": {
        "id": "h9CU7dJAJfRu",
        "colab_type": "text"
      },
      "source": [
        "Respuesta: "
      ]
    },
    {
      "cell_type": "markdown",
      "metadata": {
        "id": "Wp-2JLSBJhPv",
        "colab_type": "text"
      },
      "source": [
        "### Actividad 6\n",
        "\n",
        "Generar lista de 6 recomendaciones para el usuario con ID 457. Indique qué películas son con todas sus columnas. (Recuerde el comando `loc` vista anteriormete)"
      ]
    },
    {
      "cell_type": "code",
      "metadata": {
        "id": "otr7zq1jaqPR",
        "colab_type": "code",
        "colab": {}
      },
      "source": [
        "# (pista) recuerde los comandos usados en el método anterior\n"
      ],
      "execution_count": 0,
      "outputs": []
    },
    {
      "cell_type": "markdown",
      "metadata": {
        "id": "Bi7_nCE7TmOZ",
        "colab_type": "text"
      },
      "source": [
        "Escriba los nombres de las películas recomendadas por el método knn\n",
        "\n",
        "Respuesta: "
      ]
    },
    {
      "cell_type": "code",
      "metadata": {
        "id": "xu6ZHcrkfumP",
        "colab_type": "code",
        "colab": {}
      },
      "source": [
        ""
      ],
      "execution_count": 0,
      "outputs": []
    },
    {
      "cell_type": "markdown",
      "metadata": {
        "id": "6_Kp3zRwJ9gv",
        "colab_type": "text"
      },
      "source": [
        "## Evaluar en base a error de prediccion (MAE y RMSE) ***UserKnn***"
      ]
    },
    {
      "cell_type": "code",
      "metadata": {
        "id": "C-te1p0oaUU_",
        "colab_type": "code",
        "colab": {}
      },
      "source": [
        "k_values = [5, 10, 30, 50] # definir distintos valores de vecinos (k)\n",
        "mae_values = [] # para almacenar resultados de MAE\n",
        "rmse_values = [] # para almacenar valores de RMSE\n",
        "\n",
        "for k in k_values:\n",
        "  \n",
        "  myUserKnn.train(k,'cosine')\n",
        "  predlist, mae, rmse = myUserKnn.test( input_file = 'u1.test',dlmchar = b'\\t', header = False, usercol = 0, itemcol = 1, ratingcol = 2, output_file = 'predictions.csv' )\n",
        "  rmse_values.append(rmse)   \n",
        "\n",
        "print(rmse_values)"
      ],
      "execution_count": 0,
      "outputs": []
    },
    {
      "cell_type": "code",
      "metadata": {
        "id": "q9E0YClOjPGb",
        "colab_type": "code",
        "colab": {}
      },
      "source": [
        "import matplotlib.pyplot as plt\n",
        "%matplotlib inline\n",
        "\n",
        "plt.plot(k_values, rmse_values, 'r-')\n",
        "plt.plot(k_values, rmse_values, 'bo')\n",
        "plt.show()"
      ],
      "execution_count": 0,
      "outputs": []
    },
    {
      "cell_type": "markdown",
      "metadata": {
        "id": "jrjMzM5zioaP",
        "colab_type": "text"
      },
      "source": [
        "\n",
        "### Actividad 7\n",
        "Según los resultados: ¿ qué numero de vecinos es mejor para hacer recomendaciones con un menor error de predicción ?"
      ]
    },
    {
      "cell_type": "markdown",
      "metadata": {
        "id": "FqgkF0dNMo9c",
        "colab_type": "text"
      },
      "source": [
        "## Actividad 8 ItemKNN\n",
        "\n",
        "Probar método de recomendación basado en ***ItemKNN***. **Replicar** todo el análisis de UserKNN con el método ItemKNN. En particular:\n",
        "1. Entrene el modelo\n",
        "2. Prediga el rating que le dará un usuario a un ítem. El usuario e ítem quedan a tu criterio\n",
        "3. Genera una lista de 5 recomendaciones para un usuario e indique qué películas son\n"
      ]
    },
    {
      "cell_type": "code",
      "metadata": {
        "id": "MasaNvW4O05J",
        "colab_type": "code",
        "colab": {}
      },
      "source": [
        "# Puede agregar las celdas de código y de texto que estimes conveniente."
      ],
      "execution_count": 0,
      "outputs": []
    },
    {
      "cell_type": "markdown",
      "metadata": {
        "id": "NAE5IZzXMqiJ",
        "colab_type": "text"
      },
      "source": [
        "## Actividad 9 SlopeOne\n",
        "\n",
        "Probar método de recomendación basado en ***SlopeOne***. **Replicar** todo el análisis de UserKNN con el método SlopeOne. En particular:\n",
        "1. Entrene el modelo\n",
        "2. Prediga el rating que le dará un usuario a un ítem. El usuario e ítem quedan a tu criterio\n",
        "3. Genera una lista de 5 recomendaciones para un usuario e indique qué películas son\n"
      ]
    },
    {
      "cell_type": "code",
      "metadata": {
        "id": "dipFniJAPA61",
        "colab_type": "code",
        "colab": {}
      },
      "source": [
        "# Puede agregar las celdas de código y de texto que estimes conveniente."
      ],
      "execution_count": 0,
      "outputs": []
    }
  ]
}